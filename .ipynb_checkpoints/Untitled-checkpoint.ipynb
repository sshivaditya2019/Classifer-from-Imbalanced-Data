{
 "cells": [
  {
   "cell_type": "code",
   "execution_count": 5,
   "id": "5d2e9add-84c1-4552-9512-0a8073bc3fc0",
   "metadata": {},
   "outputs": [],
   "source": [
    "from imbalance.datagen import *\n",
    "from imbalance.plot import cluster_plot"
   ]
  },
  {
   "cell_type": "code",
   "execution_count": null,
   "id": "324e3343-f561-4127-856b-49602f8c1f60",
   "metadata": {},
   "outputs": [],
   "source": []
  }
 ],
 "metadata": {
  "kernelspec": {
   "display_name": "Python 3 (ipykernel)",
   "language": "python",
   "name": "python3"
  },
  "language_info": {
   "codemirror_mode": {
    "name": "ipython",
    "version": 3
   },
   "file_extension": ".py",
   "mimetype": "text/x-python",
   "name": "python",
   "nbconvert_exporter": "python",
   "pygments_lexer": "ipython3",
   "version": "3.8.11"
  }
 },
 "nbformat": 4,
 "nbformat_minor": 5
}
