{
 "cells": [
  {
   "cell_type": "code",
   "execution_count": 1,
   "id": "5d2e9add-84c1-4552-9512-0a8073bc3fc0",
   "metadata": {},
   "outputs": [],
   "source": [
    "from imbalance.datagen import *\n",
    "from imbalance.plot import cluster_plot\n",
    "from imbalance.models import *\n",
    "from imbalance.pre_processing import *"
   ]
  },
  {
   "cell_type": "code",
   "execution_count": 6,
   "id": "08046b8e-88d2-463f-9c9b-79234d7de56d",
   "metadata": {},
   "outputs": [],
   "source": [
    "X,y = gen_pawdata02b()"
   ]
  },
  {
   "cell_type": "code",
   "execution_count": 7,
   "id": "324e3343-f561-4127-856b-49602f8c1f60",
   "metadata": {},
   "outputs": [
    {
     "name": "stdout",
     "output_type": "stream",
     "text": [
      "Number of estimated clusters : 5 \n"
     ]
    },
    {
     "data": {
      "image/png": "[encoded data removed]",
      "text/plain": [
       "<Figure size 432x288 with 1 Axes>"
      ]
     },
     "metadata": {
      "needs_background": "light"
     },
     "output_type": "display_data"
    }
   ],
   "source": [
    "cluster_plot(X,5)"
   ]
  },
  {
   "cell_type": "code",
   "execution_count": 8,
   "id": "5eab1686-e044-4efb-a4e1-d993c6711227",
   "metadata": {},
   "outputs": [
    {
     "name": "stdout",
     "output_type": "stream",
     "text": [
      "Confusion Matrix: \n",
      " [[200   0]\n",
      " [100 100]]\n",
      "From Confusion Matric we calculate addtional parameters\n",
      "Accuracy :  0.75\n",
      "Sensitivity:  1.0\n",
      "Specificity :  0.5\n"
     ]
    }
   ],
   "source": [
    "KNeigbourClassResults(X,y)"
   ]
  },
  {
   "cell_type": "code",
   "execution_count": 9,
   "id": "024ef6be-2d18-414b-8659-cdd3edc73605",
   "metadata": {},
   "outputs": [
    {
     "name": "stdout",
     "output_type": "stream",
     "text": [
      "Original Data Characterstics\n",
      "Number of samples: 400\n",
      "Number of features: 2\n",
      "Majority class label: 0\n",
      "Number of majority class samples: 200\n",
      "Minority class label: 1\n",
      "Number of Minority class sample: 200\n",
      "Imbalance Ratio : 1.0\n",
      "Data Characterstics after random Over Sampling\n",
      "Number of samples: 400\n",
      "Number of features: 2\n",
      "Majority class label: 0\n",
      "Number of majority class samples: 200\n",
      "Minority class label: 1\n",
      "Number of Minority class sample: 200\n",
      "Imbalance Ratio : 1.0\n",
      "Original Data Characterstics\n",
      "Number of samples: 400\n",
      "Number of features: 2\n",
      "Majority class label: 0\n",
      "Number of majority class samples: 200\n",
      "Minority class label: 1\n",
      "Number of Minority class sample: 200\n",
      "Imbalance Ratio : 1.0\n",
      "Data Characterstics after SPIDER\n",
      "Number of samples: 360\n",
      "Number of features: 2\n",
      "Majority class label: 1.0\n",
      "Number of majority class samples: 271\n",
      "Minority class label: 0.0\n",
      "Number of Minority class sample: 89\n",
      "Imbalance Ratio : 3.0\n",
      "Original Data Characterstics\n",
      "Number of samples: 400\n",
      "Number of features: 2\n",
      "Majority class label: 0\n",
      "Number of majority class samples: 200\n",
      "Minority class label: 1\n",
      "Number of Minority class sample: 200\n",
      "Imbalance Ratio : 1.0\n",
      "Data Characterstics after NCR\n",
      "Number of samples: 311\n",
      "Number of features: 2\n",
      "Majority class label: 0\n",
      "Number of majority class samples: 200\n",
      "Minority class label: 1\n",
      "Number of Minority class sample: 111\n",
      "Imbalance Ratio : 1.8\n",
      "Original Data Characterstics\n",
      "Number of samples: 400\n",
      "Number of features: 2\n",
      "Majority class label: 0\n",
      "Number of majority class samples: 200\n",
      "Minority class label: 1\n",
      "Number of Minority class sample: 200\n",
      "Imbalance Ratio : 1.0\n",
      "Data Characterstics after Cluster Based Over Sampling\n",
      "Number of samples: 400\n",
      "Number of features: 2\n",
      "Majority class label: 0\n",
      "Number of majority class samples: 200\n",
      "Minority class label: 1\n",
      "Number of Minority class sample: 200\n",
      "Imbalance Ratio : 1.0\n"
     ]
    }
   ],
   "source": [
    "X1, y1 = RandomOverSampling(X,y)\n",
    "X2, y2 = SPIDER(X,y)\n",
    "X3, y3 = NCR(X,y)\n",
    "X4, y4 = ClusterBasedOverSampling(X,y)"
   ]
  },
  {
   "cell_type": "code",
   "execution_count": null,
   "id": "6389022f-d8bf-4f14-b32c-054e29abae2b",
   "metadata": {},
   "outputs": [],
   "source": []
  }
 ],
 "metadata": {
  "kernelspec": {
   "display_name": "Python 3 (ipykernel)",
   "language": "python",
   "name": "python3"
  },
  "language_info": {
   "codemirror_mode": {
    "name": "ipython",
    "version": 3
   },
   "file_extension": ".py",
   "mimetype": "text/x-python",
   "name": "python",
   "nbconvert_exporter": "python",
   "pygments_lexer": "ipython3",
   "version": "3.8.11"
  }
 },
 "nbformat": 4,
 "nbformat_minor": 5
}
